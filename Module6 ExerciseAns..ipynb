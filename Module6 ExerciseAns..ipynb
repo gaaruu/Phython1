{
 "cells": [
  {
   "cell_type": "markdown",
   "metadata": {},
   "source": [
    "### Exercise 1\n",
    "Convert following decimal number to a binary number by hand:\n",
    "\n",
    "    61\n",
    "    15\n",
    "    71\n",
    "    "
   ]
  },
  {
   "cell_type": "code",
   "execution_count": null,
   "metadata": {},
   "outputs": [],
   "source": [
    "# by dividing 61 to 2 manually\n",
    "decimal num 61 is equal to (111101)binary\n",
    "# by dividing 15 to 2 manually\n",
    "dec. 15 is (1111)binary\n",
    "# by dividing 71  to 2 manually\n",
    "dec. of 71 is (01000111) binary"
   ]
  },
  {
   "cell_type": "markdown",
   "metadata": {},
   "source": [
    "### Exercise 2\n",
    "When a = 61 and b = 15, what is the result of following bitwise opertion? Use inline comments to show your result in a binary number. Find your answer by hand.\n",
    "\n",
    "    a & b\n",
    "    a | b\n",
    "    a ^ b\n",
    "    a >> 2\n",
    "    "
   ]
  },
  {
   "cell_type": "code",
   "execution_count": null,
   "metadata": {},
   "outputs": [],
   "source": [
    "# convert a in to a binary number\n",
    "a =  111101 # a=61 in decimal is given\n",
    "\n",
    "=======================================\n",
    "\n",
    "\n",
    "a^b=\n",
    "a>>2\n",
    "# convert b in to a binary number\n",
    "b =  001111  # b=15 in decimal is given\n"
   ]
  },
  {
   "cell_type": "code",
   "execution_count": null,
   "metadata": {},
   "outputs": [],
   "source": [
    "# a & b\n",
    "a&b= 001101"
   ]
  },
  {
   "cell_type": "code",
   "execution_count": null,
   "metadata": {},
   "outputs": [],
   "source": [
    "# a | b\n",
    "a|b= 111111"
   ]
  },
  {
   "cell_type": "code",
   "execution_count": null,
   "metadata": {},
   "outputs": [],
   "source": [
    "# a ^ b\n",
    "a =  111101\n",
    "b =  001111\n",
    "a^b= 110010"
   ]
  },
  {
   "cell_type": "code",
   "execution_count": null,
   "metadata": {},
   "outputs": [],
   "source": [
    "# a >> 2\n",
    "a =  111101\n",
    "     00111101\n",
    "\n",
    "a>>2=001111"
   ]
  },
  {
   "cell_type": "markdown",
   "metadata": {},
   "source": [
    "### Exercise 3\n",
    "Ask a user for a code and store that answer. \n",
    "If the answer is <b>grey</b> then print \"You found secret code.\"\n",
    "Otherwise print that the entered code is not the secret code."
   ]
  },
  {
   "cell_type": "code",
   "execution_count": 45,
   "metadata": {},
   "outputs": [
    {
     "name": "stdout",
     "output_type": "stream",
     "text": [
      "Enter the test score:hhh\n",
      " That the entered code is not the secret code.\n"
     ]
    }
   ],
   "source": [
    "def code(grey):\n",
    "#grey == str(input(\"Enter your code: \"))\n",
    "    if code == 'grey':\n",
    "         print(\"You found secret code.\")\n",
    "    else:\n",
    "        print(\" That the entered code is not the secret code.\")\n",
    "        \n",
    "grey = str(input('Enter the test score:')) \n",
    "code(grey)"
   ]
  },
  {
   "cell_type": "markdown",
   "metadata": {},
   "source": [
    "### Exercise 4\n",
    "Ask for an exam score and store that number. If the number is greater than 100, then print out 'You cannot have an exam score higher than 100'. If the number doesn't exceeed 100 but is greater than or equal to 75, then print out 'You did great on your exam!'. Otherwise if they scored lower than 75, then print out 'You need to study harder'."
   ]
  },
  {
   "cell_type": "code",
   "execution_count": 20,
   "metadata": {},
   "outputs": [
    {
     "name": "stdout",
     "output_type": "stream",
     "text": [
      "Enter the exam score:101\n",
      "you cannot have an exam  score higher than 100\n"
     ]
    }
   ],
   "source": [
    "exam_score = int(input(\"Enter the exam score:\"))\n",
    "if exam_score > 100:\n",
    "    print('you cannot have an exam  score higher than 100')\n",
    "elif 75 <= exam_score <= 100:\n",
    "    print('you did great on you exam!')\n",
    "else:\n",
    "    print('you need to study harder')"
   ]
  },
  {
   "cell_type": "markdown",
   "metadata": {},
   "source": [
    "### Exercise 5\n",
    "Write a function to convert a test score to a grade where  \n",
    " - 90 - 100: A\n",
    " - 80 - 89:  B\n",
    " - 70 - 79:  C\n",
    " - 60 - 69:  D\n",
    " - < 60   :  F\n",
    " \n",
    "If a score is not between 0 and 100 then print out an error message. In the program, ask the user for a score and then call your function. "
   ]
  },
  {
   "cell_type": "code",
   "execution_count": 30,
   "metadata": {},
   "outputs": [],
   "source": [
    "# define your function\n",
    "def test_grade(score):\n",
    "    if 90<= score <= 100:\n",
    "        print('your grade is: A')\n",
    "    elif 80<= score <= 89:\n",
    "        print('your grade is: B')\n",
    "    elif 70<= score <= 79:\n",
    "        print('your grade is: C')\n",
    "    elif 60<= score <= 69:\n",
    "        print('your grade is: D')\n",
    "    elif 50<= score < 60:\n",
    "        print('your grade is: F')\n",
    "    else:\n",
    "        print('you need to study hard')"
   ]
  },
  {
   "cell_type": "code",
   "execution_count": 31,
   "metadata": {},
   "outputs": [
    {
     "name": "stdout",
     "output_type": "stream",
     "text": [
      "Enter the test score:55\n",
      "your grade is: F\n"
     ]
    }
   ],
   "source": [
    "# ask the user for a score and then call your function\n",
    "score = int(input('Enter the test score:'))\n",
    "test_grade(score)\n"
   ]
  },
  {
   "cell_type": "code",
   "execution_count": null,
   "metadata": {},
   "outputs": [],
   "source": []
  }
 ],
 "metadata": {
  "kernelspec": {
   "display_name": "Python 3",
   "language": "python",
   "name": "python3"
  },
  "language_info": {
   "codemirror_mode": {
    "name": "ipython",
    "version": 3
   },
   "file_extension": ".py",
   "mimetype": "text/x-python",
   "name": "python",
   "nbconvert_exporter": "python",
   "pygments_lexer": "ipython3",
   "version": "3.8.8"
  }
 },
 "nbformat": 4,
 "nbformat_minor": 4
}
