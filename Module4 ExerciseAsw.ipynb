{
 "cells": [
  {
   "cell_type": "markdown",
   "metadata": {},
   "source": [
    "### Module 4 Exercise"
   ]
  },
  {
   "cell_type": "markdown",
   "metadata": {},
   "source": [
    "1. How many occurences of \"row\" is in \"Row, row, row your boat. Gently down the stream. Merrily, merrily, merrily, merrily. Life is but a dream. Row, row, row your boat. Gently up the creek.\" "
   ]
  },
  {
   "cell_type": "code",
   "execution_count": 1,
   "metadata": {},
   "outputs": [
    {
     "data": {
      "text/plain": [
       "4"
      ]
     },
     "execution_count": 1,
     "metadata": {},
     "output_type": "execute_result"
    }
   ],
   "source": [
    "word = \"Row, row, row your boat. Gently down the stream. Merrily, merrily, merrily. Life ia but a dream. Row, row, row your boat. Gently up the creek.\"\n",
    "word.count('row')"
   ]
  },
  {
   "cell_type": "markdown",
   "metadata": {},
   "source": [
    "2. Ask a user for a name, color, and an animal.  <br>\n",
    "Then using string format method per each line, show following:<br>\n",
    "<b><i>name</i></b> had a little <b><i>animal</i></b>. <br>\n",
    "It was <b><i>color</i></b> as snow. <br>\n",
    "And everywhere that <b><i>name</i></b> went, the <b><i>animal</i></b> was sure to go."
   ]
  },
  {
   "cell_type": "code",
   "execution_count": 17,
   "metadata": {},
   "outputs": [
    {
     "name": "stdout",
     "output_type": "stream",
     "text": [
      "what is your name?Mayor\n",
      "what color?Green\n",
      "waht animal?bird\n",
      "Mayor had a little bird\n",
      "it was Green as a snow\n",
      " and everywhere that Mayor went, the bird was sure to go\n"
     ]
    }
   ],
   "source": [
    "name = input('what is your name?')\n",
    "color = input('what color?')\n",
    "animal = input('waht animal?')\n",
    "print(f'{name} had a little {animal}')\n",
    "print(f'it was {color} as a snow')\n",
    "print(f' and everywhere that {name} went, the {animal} was sure to go')"
   ]
  },
  {
   "cell_type": "code",
   "execution_count": null,
   "metadata": {},
   "outputs": [],
   "source": []
  },
  {
   "cell_type": "markdown",
   "metadata": {},
   "source": [
    "3. Print 3.14159 in a scientific number notation "
   ]
  },
  {
   "cell_type": "code",
   "execution_count": 3,
   "metadata": {},
   "outputs": [
    {
     "name": "stdout",
     "output_type": "stream",
     "text": [
      " 3.141590e+00\n"
     ]
    }
   ],
   "source": [
    "pi_value = 3.14159\n",
    "print(f\"{pi_value : e}\")\n"
   ]
  },
  {
   "cell_type": "markdown",
   "metadata": {},
   "source": [
    "4. Print 3.1559 in 3 decimal places"
   ]
  },
  {
   "cell_type": "code",
   "execution_count": 4,
   "metadata": {},
   "outputs": [
    {
     "name": "stdout",
     "output_type": "stream",
     "text": [
      "3.156\n",
      "3.142\n"
     ]
    }
   ],
   "source": [
    "pi_value = 3.1559\n",
    "print(f\"{pi_value :.3f}\")\n",
    "print(\"{:.3f}\".format(3.14159))"
   ]
  },
  {
   "cell_type": "markdown",
   "metadata": {},
   "source": [
    "5. Print 1589.92341 in a scientific number notation to the power of 3"
   ]
  },
  {
   "cell_type": "code",
   "execution_count": 5,
   "metadata": {},
   "outputs": [
    {
     "name": "stdout",
     "output_type": "stream",
     "text": [
      "1.590e+03\n",
      "1.590e+03\n"
     ]
    }
   ],
   "source": [
    "num = 1589.92341\n",
    "print(f\"{num :.3e}\")\n",
    "print(\"{:.3e}\".format(1589.92341))"
   ]
  },
  {
   "cell_type": "markdown",
   "metadata": {},
   "source": [
    "6. Convert 39 to a binary number using floor division and mod operators. Then, compare your answer using bin() and int() functions."
   ]
  },
  {
   "cell_type": "code",
   "execution_count": 4,
   "metadata": {},
   "outputs": [
    {
     "name": "stdout",
     "output_type": "stream",
     "text": [
      "19\n",
      "0b10011\n",
      "19\n"
     ]
    }
   ],
   "source": [
    "print(39//2)\n",
    "print(bin(39//2))\n",
    "print(int(39//2))"
   ]
  },
  {
   "cell_type": "code",
   "execution_count": 5,
   "metadata": {},
   "outputs": [
    {
     "name": "stdout",
     "output_type": "stream",
     "text": [
      "1\n",
      "0b1\n",
      "1\n"
     ]
    }
   ],
   "source": [
    "print(39%2)\n",
    "print(bin(39%2))\n",
    "print(int(39%2))"
   ]
  },
  {
   "cell_type": "code",
   "execution_count": 6,
   "metadata": {},
   "outputs": [
    {
     "name": "stdout",
     "output_type": "stream",
     "text": [
      "4\n",
      "1\n"
     ]
    }
   ],
   "source": [
    "print(9 // 2)\n",
    "print(9 % 2)"
   ]
  },
  {
   "cell_type": "code",
   "execution_count": 7,
   "metadata": {},
   "outputs": [
    {
     "name": "stdout",
     "output_type": "stream",
     "text": [
      "2\n",
      "0\n"
     ]
    }
   ],
   "source": [
    "print(4 // 2)\n",
    "print(4 % 2)"
   ]
  },
  {
   "cell_type": "code",
   "execution_count": 8,
   "metadata": {},
   "outputs": [
    {
     "name": "stdout",
     "output_type": "stream",
     "text": [
      "1\n",
      "0\n"
     ]
    }
   ],
   "source": [
    "print(2// 2)\n",
    "print(2% 2)"
   ]
  },
  {
   "cell_type": "code",
   "execution_count": 9,
   "metadata": {},
   "outputs": [
    {
     "name": "stdout",
     "output_type": "stream",
     "text": [
      "0\n",
      "1\n"
     ]
    }
   ],
   "source": [
    "print(1 // 2)\n",
    "print(1 % 2)"
   ]
  },
  {
   "cell_type": "code",
   "execution_count": null,
   "metadata": {},
   "outputs": [],
   "source": [
    "num = 0b111001"
   ]
  },
  {
   "cell_type": "code",
   "execution_count": 11,
   "metadata": {},
   "outputs": [
    {
     "name": "stdout",
     "output_type": "stream",
     "text": [
      "1589\n",
      "0b111001\n"
     ]
    }
   ],
   "source": [
    "print(int(num))\n",
    "print(bin(57))"
   ]
  },
  {
   "cell_type": "markdown",
   "metadata": {},
   "source": [
    "7. Convert 39 to an octal number using floor division and mod operators. Then, compare your answer using oct() and int() functions."
   ]
  },
  {
   "cell_type": "code",
   "execution_count": 12,
   "metadata": {},
   "outputs": [
    {
     "name": "stdout",
     "output_type": "stream",
     "text": [
      "4\n",
      "7\n"
     ]
    }
   ],
   "source": [
    "print(39 // 8)\n",
    "print(39 % 8)"
   ]
  },
  {
   "cell_type": "code",
   "execution_count": 13,
   "metadata": {},
   "outputs": [
    {
     "name": "stdout",
     "output_type": "stream",
     "text": [
      "0\n",
      "4\n"
     ]
    }
   ],
   "source": [
    "print(4 // 8)\n",
    "print(4 % 8)"
   ]
  },
  {
   "cell_type": "code",
   "execution_count": 14,
   "metadata": {},
   "outputs": [
    {
     "name": "stdout",
     "output_type": "stream",
     "text": [
      "39\n"
     ]
    }
   ],
   "source": [
    "oct_num = 0o47\n",
    "print(int(oct_num))"
   ]
  },
  {
   "cell_type": "code",
   "execution_count": 15,
   "metadata": {},
   "outputs": [
    {
     "data": {
      "text/plain": [
       "'0o47'"
      ]
     },
     "execution_count": 15,
     "metadata": {},
     "output_type": "execute_result"
    }
   ],
   "source": [
    "oct(39)"
   ]
  },
  {
   "cell_type": "markdown",
   "metadata": {},
   "source": [
    "8. Convert 39 to a hexadecimal number using floor division and mod operators. Then, compare your answer using hex() and int() functions."
   ]
  },
  {
   "cell_type": "code",
   "execution_count": 16,
   "metadata": {},
   "outputs": [
    {
     "name": "stdout",
     "output_type": "stream",
     "text": [
      "2\n",
      "7\n"
     ]
    }
   ],
   "source": [
    "print(39 // 16)\n",
    "print(39 % 16)"
   ]
  },
  {
   "cell_type": "code",
   "execution_count": 18,
   "metadata": {},
   "outputs": [
    {
     "name": "stdout",
     "output_type": "stream",
     "text": [
      "0\n",
      "2\n"
     ]
    }
   ],
   "source": [
    "print(2 // 16)\n",
    "print(2 % 16)"
   ]
  },
  {
   "cell_type": "code",
   "execution_count": 20,
   "metadata": {},
   "outputs": [
    {
     "name": "stdout",
     "output_type": "stream",
     "text": [
      "39\n"
     ]
    }
   ],
   "source": [
    "Hex_num = 0x27\n",
    "print(int(Hex_num))"
   ]
  },
  {
   "cell_type": "code",
   "execution_count": 21,
   "metadata": {},
   "outputs": [
    {
     "data": {
      "text/plain": [
       "'0x27'"
      ]
     },
     "execution_count": 21,
     "metadata": {},
     "output_type": "execute_result"
    }
   ],
   "source": [
    "hex(39)"
   ]
  },
  {
   "cell_type": "markdown",
   "metadata": {},
   "source": [
    "9. Ask a user for an amount and a tax rate in percentage. Then, display the amount, rate in percentage, calculated tax amount, and the total (amount + tax amount) in one <b>nice</b> formmated print statement."
   ]
  },
  {
   "cell_type": "code",
   "execution_count": 24,
   "metadata": {},
   "outputs": [
    {
     "name": "stdout",
     "output_type": "stream",
     "text": [
      "Enter an amount: 87\n",
      "Enter a tax rate in (percentage): 6\n"
     ]
    }
   ],
   "source": [
    "amount = float(input(\"Enter an amount: \"))\n",
    "tax_rate = float(input(\"Enter a tax rate in (percentage): \"))"
   ]
  },
  {
   "cell_type": "code",
   "execution_count": 25,
   "metadata": {},
   "outputs": [
    {
     "name": "stdout",
     "output_type": "stream",
     "text": [
      "Amount:\t$87.00\n",
      "Tax:\t$5.22\n",
      "Total:\t$92.22\n"
     ]
    }
   ],
   "source": [
    "tax_amount = amount * (tax_rate/100)\n",
    "total = amount + tax_amount\n",
    "print(f\"Amount:\\t${amount:,.2f}\\nTax:\\t${tax_amount:,.2f}\\nTotal:\\t${total:,.2f}\")"
   ]
  },
  {
   "cell_type": "code",
   "execution_count": null,
   "metadata": {},
   "outputs": [],
   "source": []
  }
 ],
 "metadata": {
  "kernelspec": {
   "display_name": "Python 3",
   "language": "python",
   "name": "python3"
  },
  "language_info": {
   "codemirror_mode": {
    "name": "ipython",
    "version": 3
   },
   "file_extension": ".py",
   "mimetype": "text/x-python",
   "name": "python",
   "nbconvert_exporter": "python",
   "pygments_lexer": "ipython3",
   "version": "3.8.8"
  }
 },
 "nbformat": 4,
 "nbformat_minor": 4
}
