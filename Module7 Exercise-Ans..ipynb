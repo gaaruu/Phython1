{
 "cells": [
  {
   "cell_type": "markdown",
   "metadata": {},
   "source": [
    "### Exercise 1\n",
    "Ask a user for 5 names and place each one in to a list called <i>names</i>. Then, print <i>names</i>."
   ]
  },
  {
   "cell_type": "code",
   "execution_count": 11,
   "metadata": {},
   "outputs": [
    {
     "name": "stdout",
     "output_type": "stream",
     "text": [
      "Enter a name: tg\n",
      "Enter a name: fg\n",
      "Enter a name: yu\n",
      "Enter a name: i\n",
      "Enter a name: h\n",
      "list of names you entered is: ['tg', 'fg', 'yu', 'i', 'h']\n"
     ]
    }
   ],
   "source": [
    "names = []\n",
    "\n",
    "\n",
    "names.append(input(\"Enter a first name: \"))\n",
    "names.append(input(\"Enter a second name: \"))\n",
    "names.append(input(\"Enter a third name: \"))\n",
    "names.append(input(\"Enter a fourth name: \"))\n",
    "names.append(input(\"Enter a fifth name: \")) \n",
    "print(\"list of names you  entered is:\" , (names))\n"
   ]
  },
  {
   "cell_type": "raw",
   "metadata": {},
   "source": [
    "### Exercise 2\n",
    "Print out a randomly selected name in the names list from exercise 1."
   ]
  },
  {
   "cell_type": "code",
   "execution_count": 16,
   "metadata": {},
   "outputs": [
    {
     "name": "stdout",
     "output_type": "stream",
     "text": [
      "your randomly selected number is: yu\n"
     ]
    }
   ],
   "source": [
    "import random as rand\n",
    "\n",
    "index = rand.randint(0, 4)\n",
    "print(\"your randomly selected number is:\", names[index])\n"
   ]
  },
  {
   "cell_type": "markdown",
   "metadata": {},
   "source": [
    "### Exercise 3: \n",
    "Fix bugs in the next cell.  It is trying to create a list for even numbers between two numbers provided by a user.\n"
   ]
  },
  {
   "cell_type": "code",
   "execution_count": 26,
   "metadata": {},
   "outputs": [
    {
     "name": "stdout",
     "output_type": "stream",
     "text": [
      "Enter a starting number: 8\n",
      "Enter an ending number: 13\n",
      "The generated  number btn numb1 and numb2 is: [8, 9, 10, 11, 12, 13]\n",
      "The generated even number is: [8, 10, 12]\n"
     ]
    }
   ],
   "source": [
    "numb1 = int(input(\"Enter a starting number: \"))\n",
    "numb2 = int(input(\"Enter an ending number: \"))\n",
    "\n",
    "numbers = []\n",
    "evens = []\n",
    "\n",
    "for i in range(numb1, numb2+1) :\n",
    "    numbers.append(i) \n",
    "    if (i%2 == 0) :   # even number\n",
    "        evens.append(i)\n",
    "          \n",
    "print(\"The generated  number btn numb1 and numb2 is:\", (numbers)) \n",
    "\n",
    "print(\"The generated even number is:\", (evens))\n"
   ]
  },
  {
   "cell_type": "markdown",
   "metadata": {},
   "source": [
    "### Exercise 4\n",
    "Finish writing a program to generate 10 random numbers between 1 and 100 and save it to a list.\n",
    "Finally, print out the original numbers followed by the smallest, largest, and average number."
   ]
  },
  {
   "cell_type": "code",
   "execution_count": 27,
   "metadata": {},
   "outputs": [
    {
     "name": "stdout",
     "output_type": "stream",
     "text": [
      "Original Numbers are [16, 34, 49, 27, 58, 55, 4, 50, 3, 99]\n",
      "Sorted numbers are [3, 4, 16, 27, 34, 49, 50, 55, 58, 99]\n",
      "Largest number is 99\n",
      "Smallest number is 3\n",
      "Average is 39.5\n"
     ]
    }
   ],
   "source": [
    "import random as rand\n",
    "\n",
    "numbers = []\n",
    "total = 0\n",
    "\n",
    "for i in range(1, 11) :\n",
    "    numb = rand.randint(1, 100)\n",
    "    total += numb\n",
    "    numbers.append(numb)\n",
    "\n",
    "    \n",
    "# some code needed here\n",
    "orig_numbs = numbers.copy()\n",
    "numbers.sort()\n",
    "avg = total / 10\n",
    "largest = numbers[-1]\n",
    "smallest = numbers[0]\n",
    "\n",
    "print(f\"Original Numbers are {orig_numbs}\")\n",
    "print(f\"Sorted numbers are {numbers}\")\n",
    "print(f\"Largest number is {largest}\")\n",
    "print(f\"Smallest number is {smallest}\")\n",
    "print(f\"Average is {avg}\")"
   ]
  },
  {
   "cell_type": "markdown",
   "metadata": {},
   "source": [
    "### Exercise 5\n",
    "\n",
    "Write a function called <b>draw_triangle()</b> to draw a right triangle where the base of the triangle is the number passed in as an arguement. Call <b>draw_triangle()</b> to show it works.\n",
    "\n",
    "e.g. <b>draw_triangle(7)</b> draws as below:\n",
    "\n",
    "    *\n",
    "    **\n",
    "    ***\n",
    "    ****\n",
    "    *****\n",
    "    ******\n",
    "    *******\n"
   ]
  },
  {
   "cell_type": "code",
   "execution_count": 28,
   "metadata": {},
   "outputs": [],
   "source": [
    "def draw_triangle(base) :\n",
    "    for i in range(1, base+1) :\n",
    "        print(i * \"*\")"
   ]
  },
  {
   "cell_type": "code",
   "execution_count": 29,
   "metadata": {},
   "outputs": [
    {
     "name": "stdout",
     "output_type": "stream",
     "text": [
      "Enter a number: 7\n",
      "*\n",
      "**\n",
      "***\n",
      "****\n",
      "*****\n",
      "******\n",
      "*******\n"
     ]
    }
   ],
   "source": [
    "base = int(input(\"Enter a number: \"))\n",
    "\n",
    "draw_triangle(base)"
   ]
  },
  {
   "cell_type": "code",
   "execution_count": null,
   "metadata": {},
   "outputs": [],
   "source": []
  }
 ],
 "metadata": {
  "kernelspec": {
   "display_name": "Python 3",
   "language": "python",
   "name": "python3"
  },
  "language_info": {
   "codemirror_mode": {
    "name": "ipython",
    "version": 3
   },
   "file_extension": ".py",
   "mimetype": "text/x-python",
   "name": "python",
   "nbconvert_exporter": "python",
   "pygments_lexer": "ipython3",
   "version": "3.8.8"
  }
 },
 "nbformat": 4,
 "nbformat_minor": 4
}
