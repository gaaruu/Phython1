{
 "cells": [
  {
   "cell_type": "markdown",
   "metadata": {},
   "source": [
    "1. Round 4.5667 to the nearest hundreth using a build-in function, round()."
   ]
  },
  {
   "cell_type": "code",
   "execution_count": 1,
   "metadata": {},
   "outputs": [
    {
     "data": {
      "text/plain": [
       "4.57"
      ]
     },
     "execution_count": 1,
     "metadata": {},
     "output_type": "execute_result"
    }
   ],
   "source": [
    "import raound\n",
    "\n",
    "round(4.5667, 2)"
   ]
  },
  {
   "cell_type": "markdown",
   "metadata": {},
   "source": [
    "2. Convert \"657\" to an integer data type"
   ]
  },
  {
   "cell_type": "code",
   "execution_count": 2,
   "metadata": {},
   "outputs": [
    {
     "name": "stdout",
     "output_type": "stream",
     "text": [
      "657\n",
      "str_var1's value is 657 and type is <class 'str'>\n",
      "numb's value is 657 and type is <class 'int'>\n"
     ]
    }
   ],
   "source": [
    "str_var1 = \"657\"\n",
    "numb = int(str_var1)\n",
    "print(numb)\n",
    "print(f\"str_var1's value is {str_var1} and type is {type(str_var1)}\")\n",
    "print(f\"numb's value is {numb} and type is {type(numb)}\")"
   ]
  },
  {
   "cell_type": "markdown",
   "metadata": {},
   "source": [
    "3.\n",
    "Write a program to get two numbers from a user. Then, create a secret code where a code consists of 6 numbers and each number is randomly generated number between two numbers from a user. "
   ]
  },
  {
   "cell_type": "code",
   "execution_count": 4,
   "metadata": {},
   "outputs": [
    {
     "name": "stdout",
     "output_type": "stream",
     "text": [
      "Enter your first number: 1\n",
      "Enter your second number: 2\n",
      "The secret code generated is 2 2 1 2 1 1\n"
     ]
    }
   ],
   "source": [
    "import random as rand\n",
    "\n",
    "num1 = int(input(\"Enter your first number: \"))\n",
    "num2= int(input(\"Enter your second number: \"))\n",
    "\n",
    "code1 = rand.randint(num1, num2)\n",
    "code2 = rand.randint(num1, num2)\n",
    "code3 = rand.randint(num1, num2)\n",
    "code4 = rand.randint(num1, num2)\n",
    "code5 = rand.randint(num1, num2)\n",
    "code6 = rand.randint(num1, num2)\n",
    "\n",
    "print(f\"The secret code generated is {code1}, {code2}, {code3}, {code4}, {code5} ,{code6}\")"
   ]
  },
  {
   "cell_type": "markdown",
   "metadata": {},
   "source": [
    "4.\n",
    "Write a program to center align below text where number of characters per line is 40:\n",
    "\n",
    "    Hickory, dickory, dock,\n",
    "    The mouse ran up the clock.\n",
    "    The clock struck one,\n",
    "    The mouse ran down,\n",
    "    Hickory, dickory, dock\n",
    "\n",
    "<b>Do not use string's center method! </b>"
   ]
  },
  {
   "cell_type": "code",
   "execution_count": 5,
   "metadata": {},
   "outputs": [
    {
     "name": "stdout",
     "output_type": "stream",
     "text": [
      "1234567891012345678910123456789101234567\n",
      "        Hickory, dickory, dock,        \n",
      "      The mouse ran up the clock.      \n",
      "         The clock struck one,         \n",
      "          The mouse ran down,          \n",
      "         Hickory, dickory, dock         \n"
     ]
    }
   ],
   "source": [
    "line1 = \"Hickory, dickory, dock,\"\n",
    "line2 = \"The mouse ran up the clock.\"\n",
    "line3 = \"The clock struck one,\"\n",
    "line4 = \"The mouse ran down,\"\n",
    "line5 = \"Hickory, dickory, dock\"\n",
    "\n",
    "max_char = 40\n",
    "allign = ' '\n",
    "print(\"1234567891012345678910123456789101234567\")\n",
    "\n",
    "line1 = line1.strip()\n",
    "diff = max_char - len(line1)\n",
    "padding = allign * int(diff/2)\n",
    "print(f\"{padding}{line1}{padding}\")\n",
    "\n",
    "line2 = line2.strip()\n",
    "diff = max_char - len(line2)\n",
    "padding = allign * int(diff/2)\n",
    "print(f\"{padding}{line2}{padding}\")\n",
    "\n",
    "line3 = line3.strip()\n",
    "diff = max_char - len(line3)\n",
    "padding = allign * int(diff/2)       \n",
    "print(f\"{padding}{line3}{padding}\")\n",
    "\n",
    "line4 = line4.strip()\n",
    "diff = max_char - len(line4)\n",
    "padding = allign * int(diff/2)\n",
    "print(f\"{padding}{line4}{padding}\")\n",
    "\n",
    "line5 = line5.strip()\n",
    "diff = max_char - len(line5)\n",
    "padding = allign * int(diff/2)\n",
    "print(f\"{padding}{line5}{padding}\")"
   ]
  },
  {
   "cell_type": "markdown",
   "metadata": {},
   "source": [
    "5. Write a function to calculate the miles per gallon.\n",
    "Get a miles driven and gallons used from a user and call your function to calculate the miles per gallon. "
   ]
  },
  {
   "cell_type": "code",
   "execution_count": 6,
   "metadata": {},
   "outputs": [
    {
     "name": "stdout",
     "output_type": "stream",
     "text": [
      "The Miles Per Gallon Program\n",
      "\n",
      "Enter the miles driven:\n",
      "54\n",
      "Enterthe gallons of gas used:\n",
      "4\n",
      "\n",
      "Miles per Gallon:\t\t13.5\n"
     ]
    }
   ],
   "source": [
    "def miles_per_gal(miles, gallons) :\n",
    "    mpg = miles / gallons\n",
    "    mpg = round(mpg, 2)\n",
    "    return mpg\n",
    "\n",
    "\n"
   ]
  },
  {
   "cell_type": "code",
   "execution_count": 7,
   "metadata": {},
   "outputs": [
    {
     "name": "stdout",
     "output_type": "stream",
     "text": [
      "The Miles Per Gallon Program\n",
      "\n",
      "Enter the miles driven:\n",
      "46\n",
      "Enterthe gallons of gas used:\n",
      "67\n",
      "\n",
      "Miles per Gallon is:\t\t0.69\n"
     ]
    }
   ],
   "source": [
    "print(\"The Miles Per Gallon Program\\n\")\n",
    "\n",
    "miles_driven = float(input(\"Enter the miles driven:\\n\"))\n",
    "gallons_used = float(input(\"Enterthe gallons of gas used:\\n\"))\n",
    "\n",
    "mpg = miles_per_gal(miles_driven, gallons_used)\n",
    "\n",
    "print(f\"\\nMiles per Gallon is:\\t\\t{mpg}\")"
   ]
  },
  {
   "cell_type": "code",
   "execution_count": null,
   "metadata": {},
   "outputs": [],
   "source": []
  }
 ],
 "metadata": {
  "kernelspec": {
   "display_name": "Python 3",
   "language": "python",
   "name": "python3"
  },
  "language_info": {
   "codemirror_mode": {
    "name": "ipython",
    "version": 3
   },
   "file_extension": ".py",
   "mimetype": "text/x-python",
   "name": "python",
   "nbconvert_exporter": "python",
   "pygments_lexer": "ipython3",
   "version": "3.8.8"
  }
 },
 "nbformat": 4,
 "nbformat_minor": 4
}
